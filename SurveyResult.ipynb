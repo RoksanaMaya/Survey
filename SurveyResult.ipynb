{
 "cells": [
  {
   "cell_type": "code",
   "execution_count": null,
   "metadata": {},
   "outputs": [],
   "source": [
    "import pandas as pd"
   ]
  },
  {
   "cell_type": "code",
   "execution_count": null,
   "metadata": {},
   "outputs": [],
   "source": [
    "excel_file = 'Survey  Raw files-Teachers.xlsx'\n",
    "xls = pd.ExcelFile(excel_file)\n",
    "\n",
    "# Create an empty DataFrame to store the merged data\n",
    "merged_data = pd.DataFrame()\n",
    "\n",
    "# Iterate through each sheet and merge the data\n",
    "for sheet_name in xls.sheet_names:\n",
    "    # Read each sheet into a DataFrame\n",
    "    df = pd.read_excel(excel_file, sheet_name=sheet_name,skiprows=7)\n",
    "    \n",
    "    # Append the current sheet's data to the merged_data DataFrame\n",
    "    #merged_data = merged_data.append(df, ignore_index=True)\n",
    "    #df['Source'] = sheet_name\n",
    "\n",
    "    columns_to_skip = [\"Sl. No.\",\"Questions\",\"Note\",\"Reason\"] \n",
    "    \n",
    "    # Drop the specified columns\n",
    "    df = df.drop(columns_to_skip, axis=1)\n",
    "    \n",
    "    # Append the current sheet's data to the merged_data DataFrame\n",
    "    merged_data = pd.concat([merged_data, df], axis=1)   \n",
    "\n",
    "# Display the merged data\n",
    "merged_data\n",
    "# Display the desired rows\n",
    "row_numbers = [4,5, 6, 7,8,9,10]\n",
    "merged_rows=merged_data.iloc[row_numbers].T\n",
    "merged_rows\n",
    "\n"
   ]
  },
  {
   "cell_type": "code",
   "execution_count": null,
   "metadata": {},
   "outputs": [],
   "source": [
    "merged_rows.to_excel(r'results5-11.xlsx', index=False)"
   ]
  }
 ],
 "metadata": {
  "kernelspec": {
   "display_name": "Python 3",
   "language": "python",
   "name": "python3"
  },
  "language_info": {
   "codemirror_mode": {
    "name": "ipython",
    "version": 3
   },
   "file_extension": ".py",
   "mimetype": "text/x-python",
   "name": "python",
   "nbconvert_exporter": "python",
   "pygments_lexer": "ipython3",
   "version": "3.11.1"
  },
  "orig_nbformat": 4
 },
 "nbformat": 4,
 "nbformat_minor": 2
}
